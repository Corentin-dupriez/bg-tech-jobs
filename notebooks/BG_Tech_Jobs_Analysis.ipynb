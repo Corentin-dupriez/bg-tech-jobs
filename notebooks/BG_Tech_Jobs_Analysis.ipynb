{
 "cells": [
  {
   "cell_type": "markdown",
   "id": "0ff600c1-4a0d-43ba-9589-5162b8468966",
   "metadata": {},
   "source": [
    "# 💼 IT Job Listings in Bulgaria (2023–2025)\n",
    "\n",
    "This notebook analyzes trends in Bulgaria's IT job market by comparing historical data from 2023 with newly scraped data from [Dev.bg](https://dev.bg). The goal is to identify how the number and distribution of job listings have evolved between 2023 and 2025.\n",
    "\n",
    "The analysis builds upon a 2023 dataset available on [Kaggle](https://www.kaggle.com/code/dimodimchev/deep-dive-into-bulgaria-s-it-job-market-trends/input), and extends it using a custom web scraper and a data updating module that collects and integrates recent job listings into the same CSV file.\n"
   ]
  },
  {
   "cell_type": "markdown",
   "id": "2d57ba5b-3439-43fb-b300-08a54d5663ad",
   "metadata": {},
   "source": [
    "## 🛠️ Data Pipeline Overview\n",
    "\n",
    "The data was collected using a custom web scraper built with `BeautifulSoup`, and cleaned using a Python utility module.\n",
    "\n",
    "- Source: [dev.bg](https://dev.bg)\n",
    "- Fields collected: date, number of listings for back-end development, java, .NET, PHP, C/C++/Embedded, Python, Ruby, Go, Node.js, front-end development, JavaScript, React, Angular, Vue, Full-stack development, PM/BA, QA, DevOps, DB engineer, Cyber security, Sys admin, data warehouse, big data, data visualization, ML and AI, UI/UX, technical support, mobile, iOS, Android, IT management, junior\n",
    "- Output: `data/cleaned_dataset.csv`\n",
    "\n",
    "📌 You can add new data to the dataset by running `python main.py`.\n"
   ]
  },
  {
   "metadata": {},
   "cell_type": "markdown",
   "source": "### Import the required modules",
   "id": "cfc673df4f918935"
  },
  {
   "cell_type": "code",
   "id": "e7a4c391-ad99-4d85-a985-e241895a7363",
   "metadata": {
    "ExecuteTime": {
     "end_time": "2025-07-04T20:16:32.032954Z",
     "start_time": "2025-07-04T20:16:32.028601Z"
    }
   },
   "source": [
    "import pandas as pd\n",
    "import os\n",
    "import matplotlib.pyplot as plt\n",
    "import seaborn as sns"
   ],
   "outputs": [],
   "execution_count": 2
  },
  {
   "metadata": {},
   "cell_type": "markdown",
   "source": "Reset the seaborn theme",
   "id": "42766f0f33257416"
  },
  {
   "cell_type": "code",
   "id": "be0f9004-5dce-4b95-8a5a-96f61a546c31",
   "metadata": {
    "ExecuteTime": {
     "end_time": "2025-07-04T20:16:32.050225Z",
     "start_time": "2025-07-04T20:16:32.047858Z"
    }
   },
   "source": [
    "sns.set_theme()"
   ],
   "outputs": [],
   "execution_count": 3
  },
  {
   "metadata": {},
   "cell_type": "markdown",
   "source": "Get the cleaned dataset file",
   "id": "7449df1f2220edce"
  },
  {
   "cell_type": "code",
   "id": "3f8625bc-a047-41a2-bba8-0d97e7794395",
   "metadata": {
    "ExecuteTime": {
     "end_time": "2025-07-04T20:16:32.058935Z",
     "start_time": "2025-07-04T20:16:32.056882Z"
    }
   },
   "source": [
    "notebook_folder = os.getcwd()\n",
    "file = os.path.join('/'.join(notebook_folder.split('/')[0:-1]), 'data', 'cleaned_dataset.csv')"
   ],
   "outputs": [],
   "execution_count": 4
  },
  {
   "metadata": {},
   "cell_type": "markdown",
   "source": "Create a dataframe from the cleaned dataset",
   "id": "2b696d5f5634379a"
  },
  {
   "cell_type": "code",
   "id": "488531a0-5f07-4b87-911e-d538cae16108",
   "metadata": {
    "ExecuteTime": {
     "end_time": "2025-07-04T20:16:32.073484Z",
     "start_time": "2025-07-04T20:16:32.068098Z"
    }
   },
   "source": [
    "df = pd.read_csv(file)"
   ],
   "outputs": [],
   "execution_count": 5
  },
  {
   "metadata": {},
   "cell_type": "markdown",
   "source": "### Change the date format to datetime and set the date as index",
   "id": "a25d618cad76e283"
  },
  {
   "cell_type": "code",
   "id": "4b5a349f-8423-448a-8550-d0e4258077d7",
   "metadata": {
    "ExecuteTime": {
     "end_time": "2025-07-04T20:16:32.134694Z",
     "start_time": "2025-07-04T20:16:32.125836Z"
    }
   },
   "source": [
    "df['date'] = pd.to_datetime(df['date'])"
   ],
   "outputs": [],
   "execution_count": 6
  },
  {
   "metadata": {
    "ExecuteTime": {
     "end_time": "2025-07-04T20:16:32.163417Z",
     "start_time": "2025-07-04T20:16:32.160034Z"
    }
   },
   "cell_type": "code",
   "source": "df.set_index('date', inplace=True)",
   "id": "ecebe965c98aeb19",
   "outputs": [],
   "execution_count": 7
  },
  {
   "metadata": {},
   "cell_type": "markdown",
   "source": "### Presentation of the dataset",
   "id": "d6f1b09cfa0c09de"
  },
  {
   "cell_type": "code",
   "id": "978e9e64-dc57-407d-9a4f-421eb94451cf",
   "metadata": {
    "ExecuteTime": {
     "end_time": "2025-07-04T20:16:32.195682Z",
     "start_time": "2025-07-04T20:16:32.186066Z"
    }
   },
   "source": [
    "df.head()"
   ],
   "outputs": [
    {
     "data": {
      "text/plain": [
       "            id  backenddevelopment  java  dotnet  php  ccplusplusembeded  \\\n",
       "date                                                                       \n",
       "2023-08-13   1                 953   284     183  130                138   \n",
       "2023-08-14   2                 954   282     187  128                139   \n",
       "2023-08-15  14                 951   284     187  125                136   \n",
       "2023-08-16  25                 955   282     188  126                137   \n",
       "2023-08-17  31                 939   273     184  129                133   \n",
       "\n",
       "            python  ruby  go  nodejs  ...  bigdata  datavisualisation  \\\n",
       "date                                  ...                               \n",
       "2023-08-13      85     7  21      74  ...       15                 55   \n",
       "2023-08-14      86     8  22      73  ...       15                 56   \n",
       "2023-08-15      82     8  24      80  ...       16                 55   \n",
       "2023-08-16      83     8  23      82  ...       16                 55   \n",
       "2023-08-17      83     7  23      80  ...       16                 55   \n",
       "\n",
       "            mlandai  ui_ux  technical_support  mobile  ios  android  \\\n",
       "date                                                                  \n",
       "2023-08-13       45     52                123      86   28       40   \n",
       "2023-08-14       46     51                121      86   28       40   \n",
       "2023-08-15       47     54                116      86   28       40   \n",
       "2023-08-16       45     54                116      83   28       39   \n",
       "2023-08-17       46     55                112      90   29       44   \n",
       "\n",
       "            itmanagment  junior  \n",
       "date                             \n",
       "2023-08-13           27     146  \n",
       "2023-08-14           26     144  \n",
       "2023-08-15           25     150  \n",
       "2023-08-16           26     138  \n",
       "2023-08-17           27     131  \n",
       "\n",
       "[5 rows x 33 columns]"
      ],
      "text/html": [
       "<div>\n",
       "<style scoped>\n",
       "    .dataframe tbody tr th:only-of-type {\n",
       "        vertical-align: middle;\n",
       "    }\n",
       "\n",
       "    .dataframe tbody tr th {\n",
       "        vertical-align: top;\n",
       "    }\n",
       "\n",
       "    .dataframe thead th {\n",
       "        text-align: right;\n",
       "    }\n",
       "</style>\n",
       "<table border=\"1\" class=\"dataframe\">\n",
       "  <thead>\n",
       "    <tr style=\"text-align: right;\">\n",
       "      <th></th>\n",
       "      <th>id</th>\n",
       "      <th>backenddevelopment</th>\n",
       "      <th>java</th>\n",
       "      <th>dotnet</th>\n",
       "      <th>php</th>\n",
       "      <th>ccplusplusembeded</th>\n",
       "      <th>python</th>\n",
       "      <th>ruby</th>\n",
       "      <th>go</th>\n",
       "      <th>nodejs</th>\n",
       "      <th>...</th>\n",
       "      <th>bigdata</th>\n",
       "      <th>datavisualisation</th>\n",
       "      <th>mlandai</th>\n",
       "      <th>ui_ux</th>\n",
       "      <th>technical_support</th>\n",
       "      <th>mobile</th>\n",
       "      <th>ios</th>\n",
       "      <th>android</th>\n",
       "      <th>itmanagment</th>\n",
       "      <th>junior</th>\n",
       "    </tr>\n",
       "    <tr>\n",
       "      <th>date</th>\n",
       "      <th></th>\n",
       "      <th></th>\n",
       "      <th></th>\n",
       "      <th></th>\n",
       "      <th></th>\n",
       "      <th></th>\n",
       "      <th></th>\n",
       "      <th></th>\n",
       "      <th></th>\n",
       "      <th></th>\n",
       "      <th></th>\n",
       "      <th></th>\n",
       "      <th></th>\n",
       "      <th></th>\n",
       "      <th></th>\n",
       "      <th></th>\n",
       "      <th></th>\n",
       "      <th></th>\n",
       "      <th></th>\n",
       "      <th></th>\n",
       "      <th></th>\n",
       "    </tr>\n",
       "  </thead>\n",
       "  <tbody>\n",
       "    <tr>\n",
       "      <th>2023-08-13</th>\n",
       "      <td>1</td>\n",
       "      <td>953</td>\n",
       "      <td>284</td>\n",
       "      <td>183</td>\n",
       "      <td>130</td>\n",
       "      <td>138</td>\n",
       "      <td>85</td>\n",
       "      <td>7</td>\n",
       "      <td>21</td>\n",
       "      <td>74</td>\n",
       "      <td>...</td>\n",
       "      <td>15</td>\n",
       "      <td>55</td>\n",
       "      <td>45</td>\n",
       "      <td>52</td>\n",
       "      <td>123</td>\n",
       "      <td>86</td>\n",
       "      <td>28</td>\n",
       "      <td>40</td>\n",
       "      <td>27</td>\n",
       "      <td>146</td>\n",
       "    </tr>\n",
       "    <tr>\n",
       "      <th>2023-08-14</th>\n",
       "      <td>2</td>\n",
       "      <td>954</td>\n",
       "      <td>282</td>\n",
       "      <td>187</td>\n",
       "      <td>128</td>\n",
       "      <td>139</td>\n",
       "      <td>86</td>\n",
       "      <td>8</td>\n",
       "      <td>22</td>\n",
       "      <td>73</td>\n",
       "      <td>...</td>\n",
       "      <td>15</td>\n",
       "      <td>56</td>\n",
       "      <td>46</td>\n",
       "      <td>51</td>\n",
       "      <td>121</td>\n",
       "      <td>86</td>\n",
       "      <td>28</td>\n",
       "      <td>40</td>\n",
       "      <td>26</td>\n",
       "      <td>144</td>\n",
       "    </tr>\n",
       "    <tr>\n",
       "      <th>2023-08-15</th>\n",
       "      <td>14</td>\n",
       "      <td>951</td>\n",
       "      <td>284</td>\n",
       "      <td>187</td>\n",
       "      <td>125</td>\n",
       "      <td>136</td>\n",
       "      <td>82</td>\n",
       "      <td>8</td>\n",
       "      <td>24</td>\n",
       "      <td>80</td>\n",
       "      <td>...</td>\n",
       "      <td>16</td>\n",
       "      <td>55</td>\n",
       "      <td>47</td>\n",
       "      <td>54</td>\n",
       "      <td>116</td>\n",
       "      <td>86</td>\n",
       "      <td>28</td>\n",
       "      <td>40</td>\n",
       "      <td>25</td>\n",
       "      <td>150</td>\n",
       "    </tr>\n",
       "    <tr>\n",
       "      <th>2023-08-16</th>\n",
       "      <td>25</td>\n",
       "      <td>955</td>\n",
       "      <td>282</td>\n",
       "      <td>188</td>\n",
       "      <td>126</td>\n",
       "      <td>137</td>\n",
       "      <td>83</td>\n",
       "      <td>8</td>\n",
       "      <td>23</td>\n",
       "      <td>82</td>\n",
       "      <td>...</td>\n",
       "      <td>16</td>\n",
       "      <td>55</td>\n",
       "      <td>45</td>\n",
       "      <td>54</td>\n",
       "      <td>116</td>\n",
       "      <td>83</td>\n",
       "      <td>28</td>\n",
       "      <td>39</td>\n",
       "      <td>26</td>\n",
       "      <td>138</td>\n",
       "    </tr>\n",
       "    <tr>\n",
       "      <th>2023-08-17</th>\n",
       "      <td>31</td>\n",
       "      <td>939</td>\n",
       "      <td>273</td>\n",
       "      <td>184</td>\n",
       "      <td>129</td>\n",
       "      <td>133</td>\n",
       "      <td>83</td>\n",
       "      <td>7</td>\n",
       "      <td>23</td>\n",
       "      <td>80</td>\n",
       "      <td>...</td>\n",
       "      <td>16</td>\n",
       "      <td>55</td>\n",
       "      <td>46</td>\n",
       "      <td>55</td>\n",
       "      <td>112</td>\n",
       "      <td>90</td>\n",
       "      <td>29</td>\n",
       "      <td>44</td>\n",
       "      <td>27</td>\n",
       "      <td>131</td>\n",
       "    </tr>\n",
       "  </tbody>\n",
       "</table>\n",
       "<p>5 rows × 33 columns</p>\n",
       "</div>"
      ]
     },
     "execution_count": 8,
     "metadata": {},
     "output_type": "execute_result"
    }
   ],
   "execution_count": 8
  },
  {
   "metadata": {},
   "cell_type": "markdown",
   "source": "Show the columns and column informations",
   "id": "f3ac659bcaac3b14"
  },
  {
   "cell_type": "code",
   "id": "f1119960-10eb-41a1-bc03-9f63ddf067b5",
   "metadata": {
    "ExecuteTime": {
     "end_time": "2025-07-04T20:16:32.282491Z",
     "start_time": "2025-07-04T20:16:32.276707Z"
    }
   },
   "source": [
    "df.info()"
   ],
   "outputs": [
    {
     "name": "stdout",
     "output_type": "stream",
     "text": [
      "<class 'pandas.core.frame.DataFrame'>\n",
      "DatetimeIndex: 105 entries, 2023-08-13 to 2025-07-04\n",
      "Data columns (total 33 columns):\n",
      " #   Column               Non-Null Count  Dtype\n",
      "---  ------               --------------  -----\n",
      " 0   id                   105 non-null    int64\n",
      " 1   backenddevelopment   105 non-null    int64\n",
      " 2   java                 105 non-null    int64\n",
      " 3   dotnet               105 non-null    int64\n",
      " 4   php                  105 non-null    int64\n",
      " 5   ccplusplusembeded    105 non-null    int64\n",
      " 6   python               105 non-null    int64\n",
      " 7   ruby                 105 non-null    int64\n",
      " 8   go                   105 non-null    int64\n",
      " 9   nodejs               105 non-null    int64\n",
      " 10  frontenddevelopment  105 non-null    int64\n",
      " 11  js                   105 non-null    int64\n",
      " 12  react                105 non-null    int64\n",
      " 13  angular              105 non-null    int64\n",
      " 14  vue                  105 non-null    int64\n",
      " 15  fulstackdevelopment  105 non-null    int64\n",
      " 16  pmandba              105 non-null    int64\n",
      " 17  qa                   105 non-null    int64\n",
      " 18  devops               105 non-null    int64\n",
      " 19  databaseengineer     105 non-null    int64\n",
      " 20  cybersecurity        105 non-null    int64\n",
      " 21  sysadmin             105 non-null    int64\n",
      " 22  datawarehouse        105 non-null    int64\n",
      " 23  bigdata              105 non-null    int64\n",
      " 24  datavisualisation    105 non-null    int64\n",
      " 25  mlandai              105 non-null    int64\n",
      " 26  ui_ux                105 non-null    int64\n",
      " 27  technical_support    105 non-null    int64\n",
      " 28  mobile               105 non-null    int64\n",
      " 29  ios                  105 non-null    int64\n",
      " 30  android              105 non-null    int64\n",
      " 31  itmanagment          105 non-null    int64\n",
      " 32  junior               105 non-null    int64\n",
      "dtypes: int64(33)\n",
      "memory usage: 27.9 KB\n"
     ]
    }
   ],
   "execution_count": 9
  },
  {
   "metadata": {},
   "cell_type": "markdown",
   "source": "### We create a new dataset by grouping the results by month and get the mean of every category for the month",
   "id": "b7779bcb0155df93"
  },
  {
   "metadata": {
    "ExecuteTime": {
     "end_time": "2025-07-04T20:16:32.380245Z",
     "start_time": "2025-07-04T20:16:32.374896Z"
    }
   },
   "cell_type": "code",
   "source": "df_grouped_by_month = df.resample('ME').mean().round(2)",
   "id": "3a43a33d9dc23e06",
   "outputs": [],
   "execution_count": 10
  },
  {
   "metadata": {},
   "cell_type": "markdown",
   "source": "Resample creates NaN rows for months that have not been calculated, so we drop the rows which are composed on only NaN values",
   "id": "8ee04cb49afc86b9"
  },
  {
   "metadata": {
    "ExecuteTime": {
     "end_time": "2025-07-04T20:16:32.446918Z",
     "start_time": "2025-07-04T20:16:32.443391Z"
    }
   },
   "cell_type": "code",
   "source": "df_grouped_by_month = df_grouped_by_month.dropna(axis=0, how='all')",
   "id": "b0ae99a834ffdced",
   "outputs": [],
   "execution_count": 11
  },
  {
   "metadata": {},
   "cell_type": "markdown",
   "source": "### Presentation of the new dataset grouped by month",
   "id": "3312de1a35d7e0e8"
  },
  {
   "metadata": {
    "ExecuteTime": {
     "end_time": "2025-07-04T20:16:32.490154Z",
     "start_time": "2025-07-04T20:16:32.480213Z"
    }
   },
   "cell_type": "code",
   "source": "df_grouped_by_month.head()",
   "id": "54532f6b9e615567",
   "outputs": [
    {
     "data": {
      "text/plain": [
       "                id  backenddevelopment    java  dotnet     php  \\\n",
       "date                                                             \n",
       "2023-08-31   40.21              925.63  271.47  183.84  121.37   \n",
       "2023-09-30   94.20              853.93  251.50  161.47  110.67   \n",
       "2023-10-31  155.32              852.03  241.19  164.13  110.03   \n",
       "2025-06-30  201.00              594.43  164.26  118.04   39.00   \n",
       "2025-07-31  213.50              570.50  143.50  117.00   42.00   \n",
       "\n",
       "            ccplusplusembeded  python  ruby     go  nodejs  ...  bigdata  \\\n",
       "date                                                        ...            \n",
       "2023-08-31             134.00   83.58  8.00  19.74   77.16  ...    12.89   \n",
       "2023-09-30             131.83   80.47  8.17  20.23   59.93  ...     7.07   \n",
       "2023-10-31             131.23   74.32  8.48  24.16   66.74  ...    10.68   \n",
       "2025-06-30              67.30   92.13  5.39  26.26   58.70  ...     4.52   \n",
       "2025-07-31              58.50  105.50  8.00  31.00   54.50  ...     4.50   \n",
       "\n",
       "            datavisualisation  mlandai  ui_ux  technical_support  mobile  \\\n",
       "date                                                                       \n",
       "2023-08-31              56.58    47.32  53.63             107.16   88.26   \n",
       "2023-09-30              45.27    49.17  56.70              98.80   86.13   \n",
       "2023-10-31              45.71    52.35  69.00             101.35   84.10   \n",
       "2025-06-30              48.43    73.26  54.39              97.00   51.22   \n",
       "2025-07-31              40.50    69.50  45.00              96.00   59.00   \n",
       "\n",
       "              ios  android  itmanagment  junior  \n",
       "date                                             \n",
       "2023-08-31  27.89    42.37        29.21  126.79  \n",
       "2023-09-30  23.00    39.77        38.17  127.33  \n",
       "2023-10-31  22.32    36.03        38.42  131.29  \n",
       "2025-06-30  16.87    17.39        37.74  115.74  \n",
       "2025-07-31  15.50    18.50        44.00  103.00  \n",
       "\n",
       "[5 rows x 33 columns]"
      ],
      "text/html": [
       "<div>\n",
       "<style scoped>\n",
       "    .dataframe tbody tr th:only-of-type {\n",
       "        vertical-align: middle;\n",
       "    }\n",
       "\n",
       "    .dataframe tbody tr th {\n",
       "        vertical-align: top;\n",
       "    }\n",
       "\n",
       "    .dataframe thead th {\n",
       "        text-align: right;\n",
       "    }\n",
       "</style>\n",
       "<table border=\"1\" class=\"dataframe\">\n",
       "  <thead>\n",
       "    <tr style=\"text-align: right;\">\n",
       "      <th></th>\n",
       "      <th>id</th>\n",
       "      <th>backenddevelopment</th>\n",
       "      <th>java</th>\n",
       "      <th>dotnet</th>\n",
       "      <th>php</th>\n",
       "      <th>ccplusplusembeded</th>\n",
       "      <th>python</th>\n",
       "      <th>ruby</th>\n",
       "      <th>go</th>\n",
       "      <th>nodejs</th>\n",
       "      <th>...</th>\n",
       "      <th>bigdata</th>\n",
       "      <th>datavisualisation</th>\n",
       "      <th>mlandai</th>\n",
       "      <th>ui_ux</th>\n",
       "      <th>technical_support</th>\n",
       "      <th>mobile</th>\n",
       "      <th>ios</th>\n",
       "      <th>android</th>\n",
       "      <th>itmanagment</th>\n",
       "      <th>junior</th>\n",
       "    </tr>\n",
       "    <tr>\n",
       "      <th>date</th>\n",
       "      <th></th>\n",
       "      <th></th>\n",
       "      <th></th>\n",
       "      <th></th>\n",
       "      <th></th>\n",
       "      <th></th>\n",
       "      <th></th>\n",
       "      <th></th>\n",
       "      <th></th>\n",
       "      <th></th>\n",
       "      <th></th>\n",
       "      <th></th>\n",
       "      <th></th>\n",
       "      <th></th>\n",
       "      <th></th>\n",
       "      <th></th>\n",
       "      <th></th>\n",
       "      <th></th>\n",
       "      <th></th>\n",
       "      <th></th>\n",
       "      <th></th>\n",
       "    </tr>\n",
       "  </thead>\n",
       "  <tbody>\n",
       "    <tr>\n",
       "      <th>2023-08-31</th>\n",
       "      <td>40.21</td>\n",
       "      <td>925.63</td>\n",
       "      <td>271.47</td>\n",
       "      <td>183.84</td>\n",
       "      <td>121.37</td>\n",
       "      <td>134.00</td>\n",
       "      <td>83.58</td>\n",
       "      <td>8.00</td>\n",
       "      <td>19.74</td>\n",
       "      <td>77.16</td>\n",
       "      <td>...</td>\n",
       "      <td>12.89</td>\n",
       "      <td>56.58</td>\n",
       "      <td>47.32</td>\n",
       "      <td>53.63</td>\n",
       "      <td>107.16</td>\n",
       "      <td>88.26</td>\n",
       "      <td>27.89</td>\n",
       "      <td>42.37</td>\n",
       "      <td>29.21</td>\n",
       "      <td>126.79</td>\n",
       "    </tr>\n",
       "    <tr>\n",
       "      <th>2023-09-30</th>\n",
       "      <td>94.20</td>\n",
       "      <td>853.93</td>\n",
       "      <td>251.50</td>\n",
       "      <td>161.47</td>\n",
       "      <td>110.67</td>\n",
       "      <td>131.83</td>\n",
       "      <td>80.47</td>\n",
       "      <td>8.17</td>\n",
       "      <td>20.23</td>\n",
       "      <td>59.93</td>\n",
       "      <td>...</td>\n",
       "      <td>7.07</td>\n",
       "      <td>45.27</td>\n",
       "      <td>49.17</td>\n",
       "      <td>56.70</td>\n",
       "      <td>98.80</td>\n",
       "      <td>86.13</td>\n",
       "      <td>23.00</td>\n",
       "      <td>39.77</td>\n",
       "      <td>38.17</td>\n",
       "      <td>127.33</td>\n",
       "    </tr>\n",
       "    <tr>\n",
       "      <th>2023-10-31</th>\n",
       "      <td>155.32</td>\n",
       "      <td>852.03</td>\n",
       "      <td>241.19</td>\n",
       "      <td>164.13</td>\n",
       "      <td>110.03</td>\n",
       "      <td>131.23</td>\n",
       "      <td>74.32</td>\n",
       "      <td>8.48</td>\n",
       "      <td>24.16</td>\n",
       "      <td>66.74</td>\n",
       "      <td>...</td>\n",
       "      <td>10.68</td>\n",
       "      <td>45.71</td>\n",
       "      <td>52.35</td>\n",
       "      <td>69.00</td>\n",
       "      <td>101.35</td>\n",
       "      <td>84.10</td>\n",
       "      <td>22.32</td>\n",
       "      <td>36.03</td>\n",
       "      <td>38.42</td>\n",
       "      <td>131.29</td>\n",
       "    </tr>\n",
       "    <tr>\n",
       "      <th>2025-06-30</th>\n",
       "      <td>201.00</td>\n",
       "      <td>594.43</td>\n",
       "      <td>164.26</td>\n",
       "      <td>118.04</td>\n",
       "      <td>39.00</td>\n",
       "      <td>67.30</td>\n",
       "      <td>92.13</td>\n",
       "      <td>5.39</td>\n",
       "      <td>26.26</td>\n",
       "      <td>58.70</td>\n",
       "      <td>...</td>\n",
       "      <td>4.52</td>\n",
       "      <td>48.43</td>\n",
       "      <td>73.26</td>\n",
       "      <td>54.39</td>\n",
       "      <td>97.00</td>\n",
       "      <td>51.22</td>\n",
       "      <td>16.87</td>\n",
       "      <td>17.39</td>\n",
       "      <td>37.74</td>\n",
       "      <td>115.74</td>\n",
       "    </tr>\n",
       "    <tr>\n",
       "      <th>2025-07-31</th>\n",
       "      <td>213.50</td>\n",
       "      <td>570.50</td>\n",
       "      <td>143.50</td>\n",
       "      <td>117.00</td>\n",
       "      <td>42.00</td>\n",
       "      <td>58.50</td>\n",
       "      <td>105.50</td>\n",
       "      <td>8.00</td>\n",
       "      <td>31.00</td>\n",
       "      <td>54.50</td>\n",
       "      <td>...</td>\n",
       "      <td>4.50</td>\n",
       "      <td>40.50</td>\n",
       "      <td>69.50</td>\n",
       "      <td>45.00</td>\n",
       "      <td>96.00</td>\n",
       "      <td>59.00</td>\n",
       "      <td>15.50</td>\n",
       "      <td>18.50</td>\n",
       "      <td>44.00</td>\n",
       "      <td>103.00</td>\n",
       "    </tr>\n",
       "  </tbody>\n",
       "</table>\n",
       "<p>5 rows × 33 columns</p>\n",
       "</div>"
      ]
     },
     "execution_count": 12,
     "metadata": {},
     "output_type": "execute_result"
    }
   ],
   "execution_count": 12
  },
  {
   "metadata": {},
   "cell_type": "markdown",
   "source": "Show the columns and column information of the new dataframe",
   "id": "56173ae954f34a68"
  },
  {
   "metadata": {
    "ExecuteTime": {
     "end_time": "2025-07-04T20:16:32.551344Z",
     "start_time": "2025-07-04T20:16:32.542642Z"
    }
   },
   "cell_type": "code",
   "source": "df_grouped_by_month.info()",
   "id": "32ff37f0820f0ebe",
   "outputs": [
    {
     "name": "stdout",
     "output_type": "stream",
     "text": [
      "<class 'pandas.core.frame.DataFrame'>\n",
      "DatetimeIndex: 5 entries, 2023-08-31 to 2025-07-31\n",
      "Data columns (total 33 columns):\n",
      " #   Column               Non-Null Count  Dtype  \n",
      "---  ------               --------------  -----  \n",
      " 0   id                   5 non-null      float64\n",
      " 1   backenddevelopment   5 non-null      float64\n",
      " 2   java                 5 non-null      float64\n",
      " 3   dotnet               5 non-null      float64\n",
      " 4   php                  5 non-null      float64\n",
      " 5   ccplusplusembeded    5 non-null      float64\n",
      " 6   python               5 non-null      float64\n",
      " 7   ruby                 5 non-null      float64\n",
      " 8   go                   5 non-null      float64\n",
      " 9   nodejs               5 non-null      float64\n",
      " 10  frontenddevelopment  5 non-null      float64\n",
      " 11  js                   5 non-null      float64\n",
      " 12  react                5 non-null      float64\n",
      " 13  angular              5 non-null      float64\n",
      " 14  vue                  5 non-null      float64\n",
      " 15  fulstackdevelopment  5 non-null      float64\n",
      " 16  pmandba              5 non-null      float64\n",
      " 17  qa                   5 non-null      float64\n",
      " 18  devops               5 non-null      float64\n",
      " 19  databaseengineer     5 non-null      float64\n",
      " 20  cybersecurity        5 non-null      float64\n",
      " 21  sysadmin             5 non-null      float64\n",
      " 22  datawarehouse        5 non-null      float64\n",
      " 23  bigdata              5 non-null      float64\n",
      " 24  datavisualisation    5 non-null      float64\n",
      " 25  mlandai              5 non-null      float64\n",
      " 26  ui_ux                5 non-null      float64\n",
      " 27  technical_support    5 non-null      float64\n",
      " 28  mobile               5 non-null      float64\n",
      " 29  ios                  5 non-null      float64\n",
      " 30  android              5 non-null      float64\n",
      " 31  itmanagment          5 non-null      float64\n",
      " 32  junior               5 non-null      float64\n",
      "dtypes: float64(33)\n",
      "memory usage: 1.3 KB\n"
     ]
    }
   ],
   "execution_count": 13
  },
  {
   "metadata": {
    "ExecuteTime": {
     "end_time": "2025-07-04T20:16:32.632574Z",
     "start_time": "2025-07-04T20:16:32.628189Z"
    }
   },
   "cell_type": "code",
   "source": [
    "total_by_month = df_grouped_by_month[['backenddevelopment', 'frontenddevelopment', 'fulstackdevelopment', 'pmandba', 'qa', 'devops', 'databaseengineer',\n",
    "                     'cybersecurity', 'sysadmin', 'datawarehouse', 'bigdata', 'datavisualisation', 'mlandai', 'ui_ux', 'technical_support', 'mobile', 'itmanagment', 'junior']].sum(axis=1).reset_index(name='total')"
   ],
   "id": "d698c528db230762",
   "outputs": [],
   "execution_count": 14
  },
  {
   "metadata": {
    "ExecuteTime": {
     "end_time": "2025-07-04T20:16:32.732331Z",
     "start_time": "2025-07-04T20:16:32.725941Z"
    }
   },
   "cell_type": "code",
   "source": "print(total_by_month)",
   "id": "d6c5fa5e9d29e3b8",
   "outputs": [
    {
     "name": "stdout",
     "output_type": "stream",
     "text": [
      "        date    total\n",
      "0 2023-08-31  3045.21\n",
      "1 2023-09-30  2859.78\n",
      "2 2023-10-31  2773.52\n",
      "3 2025-06-30  2087.86\n",
      "4 2025-07-31  2091.00\n"
     ]
    }
   ],
   "execution_count": 15
  },
  {
   "metadata": {
    "ExecuteTime": {
     "end_time": "2025-07-04T20:16:32.762652Z",
     "start_time": "2025-07-04T20:16:32.759325Z"
    }
   },
   "cell_type": "code",
   "source": "(total_by_month.loc[0]['total'] - total_by_month.iloc[-1]['total']) / total_by_month.loc[0]['total'] * 100",
   "id": "8dda789044426402",
   "outputs": [
    {
     "data": {
      "text/plain": [
       "np.float64(31.334784793166975)"
      ]
     },
     "execution_count": 16,
     "metadata": {},
     "output_type": "execute_result"
    }
   ],
   "execution_count": 16
  },
  {
   "metadata": {},
   "cell_type": "markdown",
   "source": "### Look for the evolution of the dev technologies over the time period",
   "id": "268d9a2210bd2b3"
  },
  {
   "metadata": {},
   "cell_type": "markdown",
   "source": "Create a df composed of BE, FE, full-stack and mobile.",
   "id": "6487a3e1bdfc70d2"
  },
  {
   "cell_type": "code",
   "id": "173d631b-d4d8-40ab-aad8-6d951a92d65f",
   "metadata": {
    "ExecuteTime": {
     "end_time": "2025-07-04T20:16:32.790021Z",
     "start_time": "2025-07-04T20:16:32.785429Z"
    }
   },
   "source": "technologies = (df_grouped_by_month[['backenddevelopment', 'frontenddevelopment', 'fulstackdevelopment', 'mobile']])",
   "outputs": [],
   "execution_count": 17
  },
  {
   "metadata": {},
   "cell_type": "markdown",
   "source": "Create a bar plot with the evolution of all the technologies",
   "id": "70798f22125443e6"
  },
  {
   "cell_type": "code",
   "id": "48f0b370-1ec5-4c0f-af1f-0535c614048b",
   "metadata": {
    "ExecuteTime": {
     "end_time": "2025-07-04T20:16:32.960651Z",
     "start_time": "2025-07-04T20:16:32.814367Z"
    }
   },
   "source": [
    "ax = technologies.T[technologies.T.columns[::-1]].plot(kind='barh', figsize=(10,6))\n",
    "plt.xlabel('Number of listings')\n",
    "plt.ylabel('Dev technology')\n",
    "plt.title('Evolution of the number of job listings by technology over time')\n",
    "plt.legend(['2025-06', '2023-10', '2023-09', '2023-8'])\n",
    "ax.set_yticklabels(['Back End', 'Front end', 'Full stack', 'Mobile'])"
   ],
   "outputs": [
    {
     "data": {
      "text/plain": [
       "[Text(0, 0, 'Back End'),\n",
       " Text(0, 1, 'Front end'),\n",
       " Text(0, 2, 'Full stack'),\n",
       " Text(0, 3, 'Mobile')]"
      ]
     },
     "execution_count": 18,
     "metadata": {},
     "output_type": "execute_result"
    },
    {
     "data": {
      "text/plain": [
       "<Figure size 1000x600 with 1 Axes>"
      ],
      "image/png": "[encoded data removed]"
     },
     "metadata": {},
     "output_type": "display_data"
    }
   ],
   "execution_count": 18
  },
  {
   "cell_type": "markdown",
   "id": "3d12dd9a-780f-458a-87df-eb388d130d8a",
   "metadata": {},
   "source": "📉 It looks like there is a constant diminution in the search for developers in Bulgaria."
  },
  {
   "metadata": {},
   "cell_type": "markdown",
   "source": "### Check the evolution of backend technologies between September 2023 and June 2025",
   "id": "22787ef04298a70a"
  },
  {
   "metadata": {},
   "cell_type": "markdown",
   "source": "Create a pie of all the BE languages in 2023",
   "id": "cb34d7ab31bfa218"
  },
  {
   "cell_type": "code",
   "id": "27aa29d1-904d-4605-81f1-e289827de550",
   "metadata": {
    "ExecuteTime": {
     "end_time": "2025-07-04T20:16:33.029068Z",
     "start_time": "2025-07-04T20:16:32.974527Z"
    }
   },
   "source": [
    "plt.figure(figsize=(10,6))\n",
    "(df_grouped_by_month[['java', 'dotnet', 'php', 'ccplusplusembeded', 'python', 'ruby', 'go', 'nodejs']]\n",
    " .loc['2023-10-31']\n",
    " .plot(kind='pie', autopct='%.0f%%', labels=['Java', '.NET', 'PHP', 'C/C++/Embedded', 'Python', 'Ruby', 'Go', 'Node.js']))\n",
    "plt.title('Percentage of BE listings for September 2023')\n",
    "plt.ylabel(None)\n"
   ],
   "outputs": [
    {
     "data": {
      "text/plain": [
       "Text(0, 0.5, '')"
      ]
     },
     "execution_count": 19,
     "metadata": {},
     "output_type": "execute_result"
    },
    {
     "data": {
      "text/plain": [
       "<Figure size 1000x600 with 1 Axes>"
      ],
      "image/png": "[encoded data removed]"
     },
     "metadata": {},
     "output_type": "display_data"
    }
   ],
   "execution_count": 19
  },
  {
   "cell_type": "markdown",
   "id": "4ee6f275-bafc-4249-a2ef-bfcee0b63359",
   "metadata": {},
   "source": "In 2023, **Java** and **.NET** were the first two technologies with the most listings 💪. It was followed by **PHP** and **C/C++**."
  },
  {
   "metadata": {},
   "cell_type": "markdown",
   "source": "Create a pie with all of the BE technologies in 2025",
   "id": "359d5c67944a0367"
  },
  {
   "cell_type": "code",
   "id": "3d036178-09c9-470a-b6e1-47d2e840cf76",
   "metadata": {
    "ExecuteTime": {
     "end_time": "2025-07-04T20:16:33.090450Z",
     "start_time": "2025-07-04T20:16:33.045120Z"
    }
   },
   "source": [
    "plt.figure(figsize=(10,6))\n",
    "(df_grouped_by_month[['java', 'dotnet', 'php', 'ccplusplusembeded', 'python', 'ruby', 'go', 'nodejs']]\n",
    " .loc['2025-06-30']\n",
    " .plot(kind='pie', autopct='%.0f%%', labels=['Java', '.NET', 'PHP', 'C/C++/Embedded', 'Python', 'Ruby', 'Go', 'Node.js']))\n",
    "plt.title('Percentage of BE listings for June 2025')\n",
    "plt.ylabel(None)"
   ],
   "outputs": [
    {
     "data": {
      "text/plain": [
       "Text(0, 0.5, '')"
      ]
     },
     "execution_count": 20,
     "metadata": {},
     "output_type": "execute_result"
    },
    {
     "data": {
      "text/plain": [
       "<Figure size 1000x600 with 1 Axes>"
      ],
      "image/png": "[encoded data removed]"
     },
     "metadata": {},
     "output_type": "display_data"
    }
   ],
   "execution_count": 20
  },
  {
   "cell_type": "markdown",
   "id": "f5caccb6-337a-49b5-a77b-b2bd7c302d01",
   "metadata": {},
   "source": "In 2025, the same 2 technologies are at the top, but **Python** has jumped to the 3rd place 📈."
  },
  {
   "metadata": {},
   "cell_type": "markdown",
   "source": "### Check the evolution of Python between the 2 dates",
   "id": "b8523d661ead4330"
  },
  {
   "metadata": {},
   "cell_type": "markdown",
   "source": "Create a bar plot of Python listings in 2023 and 2025",
   "id": "233afbd0c46da3e7"
  },
  {
   "metadata": {
    "ExecuteTime": {
     "end_time": "2025-07-04T20:16:33.167244Z",
     "start_time": "2025-07-04T20:16:33.102854Z"
    }
   },
   "cell_type": "code",
   "source": [
    "plt.figure(figsize=(10,6))\n",
    "ax = (df_grouped_by_month[['python']].loc[['2023-08-31','2023-10-31', '2025-06-30']]\n",
    " .plot(kind='bar',\n",
    "       y='python',\n",
    "       rot=0,\n",
    "       xlabel='Date',))\n",
    "ax.set_xticklabels(['2023-08', '2023-10', '2025-06'])\n",
    "plt.title('Number of Python listings between 2023 and 2025')"
   ],
   "id": "cdbc9ecc7dfb1657",
   "outputs": [
    {
     "data": {
      "text/plain": [
       "Text(0.5, 1.0, 'Number of Python listings between 2023 and 2025')"
      ]
     },
     "execution_count": 21,
     "metadata": {},
     "output_type": "execute_result"
    },
    {
     "data": {
      "text/plain": [
       "<Figure size 1000x600 with 0 Axes>"
      ]
     },
     "metadata": {},
     "output_type": "display_data"
    },
    {
     "data": {
      "text/plain": [
       "<Figure size 640x480 with 1 Axes>"
      ],
      "image/png": "[encoded data removed]"
     },
     "metadata": {},
     "output_type": "display_data"
    }
   ],
   "execution_count": 21
  },
  {
   "metadata": {},
   "cell_type": "markdown",
   "source": "Overall, the demand for **Python** has gone up between 2023 and 2025 on average.",
   "id": "a0f3ed2bef047d21"
  },
  {
   "metadata": {
    "ExecuteTime": {
     "end_time": "2025-07-04T20:20:10.003562Z",
     "start_time": "2025-07-04T20:20:10.000631Z"
    }
   },
   "cell_type": "code",
   "source": "comparison = df_grouped_by_month.loc['2023-10-31'] < df_grouped_by_month.loc['2025-06-30']",
   "id": "135e1f9f34dc729d",
   "outputs": [],
   "execution_count": 29
  },
  {
   "metadata": {
    "ExecuteTime": {
     "end_time": "2025-07-04T20:20:46.058525Z",
     "start_time": "2025-07-04T20:20:46.054079Z"
    }
   },
   "cell_type": "code",
   "source": "comparison[comparison].index.to_list()",
   "id": "9f9aee7cf06e6e2c",
   "outputs": [
    {
     "data": {
      "text/plain": [
       "['id',\n",
       " 'python',\n",
       " 'go',\n",
       " 'cybersecurity',\n",
       " 'datawarehouse',\n",
       " 'datavisualisation',\n",
       " 'mlandai']"
      ]
     },
     "execution_count": 31,
     "metadata": {},
     "output_type": "execute_result"
    }
   ],
   "execution_count": 31
  },
  {
   "metadata": {},
   "cell_type": "markdown",
   "source": "The only fields that have gained popularity between 2023-10 and 2025-06 are Python, Go, cybersecurity, data warehouse, data visualisation, ML and AI.",
   "id": "782875fbb96c5a08"
  },
  {
   "metadata": {},
   "cell_type": "markdown",
   "source": "### Check the evolution of data and AI related positions",
   "id": "e53ae769b592c1c4"
  },
  {
   "metadata": {},
   "cell_type": "markdown",
   "source": "Show the evolution of data and AI positions in June 2025 and September 2023",
   "id": "f9fce967c9842396"
  },
  {
   "cell_type": "code",
   "id": "82ac4886-d88c-4bcc-a4d4-0e44c73c4b88",
   "metadata": {
    "ExecuteTime": {
     "end_time": "2025-07-04T20:16:33.239581Z",
     "start_time": "2025-07-04T20:16:33.234641Z"
    }
   },
   "source": [
    "(df_grouped_by_month[['bigdata', 'datavisualisation', 'mlandai']]\n",
    ".loc[['2025-06-30', '2023-10-31']])"
   ],
   "outputs": [
    {
     "data": {
      "text/plain": [
       "            bigdata  datavisualisation  mlandai\n",
       "date                                           \n",
       "2025-06-30     4.52              48.43    73.26\n",
       "2023-10-31    10.68              45.71    52.35"
      ],
      "text/html": [
       "<div>\n",
       "<style scoped>\n",
       "    .dataframe tbody tr th:only-of-type {\n",
       "        vertical-align: middle;\n",
       "    }\n",
       "\n",
       "    .dataframe tbody tr th {\n",
       "        vertical-align: top;\n",
       "    }\n",
       "\n",
       "    .dataframe thead th {\n",
       "        text-align: right;\n",
       "    }\n",
       "</style>\n",
       "<table border=\"1\" class=\"dataframe\">\n",
       "  <thead>\n",
       "    <tr style=\"text-align: right;\">\n",
       "      <th></th>\n",
       "      <th>bigdata</th>\n",
       "      <th>datavisualisation</th>\n",
       "      <th>mlandai</th>\n",
       "    </tr>\n",
       "    <tr>\n",
       "      <th>date</th>\n",
       "      <th></th>\n",
       "      <th></th>\n",
       "      <th></th>\n",
       "    </tr>\n",
       "  </thead>\n",
       "  <tbody>\n",
       "    <tr>\n",
       "      <th>2025-06-30</th>\n",
       "      <td>4.52</td>\n",
       "      <td>48.43</td>\n",
       "      <td>73.26</td>\n",
       "    </tr>\n",
       "    <tr>\n",
       "      <th>2023-10-31</th>\n",
       "      <td>10.68</td>\n",
       "      <td>45.71</td>\n",
       "      <td>52.35</td>\n",
       "    </tr>\n",
       "  </tbody>\n",
       "</table>\n",
       "</div>"
      ]
     },
     "execution_count": 23,
     "metadata": {},
     "output_type": "execute_result"
    }
   ],
   "execution_count": 23
  },
  {
   "metadata": {},
   "cell_type": "markdown",
   "source": "Create a stacked bar plot of the AI/Data positions between 2023-10 and 2025-06",
   "id": "6a6657f5c40e79f2"
  },
  {
   "metadata": {
    "ExecuteTime": {
     "end_time": "2025-07-04T20:16:33.372176Z",
     "start_time": "2025-07-04T20:16:33.293529Z"
    }
   },
   "cell_type": "code",
   "source": [
    "plt.figure(figsize=(10,6))\n",
    "ax = (df_grouped_by_month[['bigdata', 'datavisualisation', 'mlandai']].loc[['2023-10-31', '2025-06-30']]\n",
    ".plot(kind='bar', stacked=True, rot=0))\n",
    "ax.set_xticklabels(['2023-10', '2025-06'])\n",
    "plt.title('Number of Data and AI related listings between 2023 and 2025')\n",
    "plt.legend(['Big data', 'Data visualisation', 'Machine Learning and AI'])"
   ],
   "id": "d9b0ecbe8771d753",
   "outputs": [
    {
     "data": {
      "text/plain": [
       "<matplotlib.legend.Legend at 0x10d23a6f0>"
      ]
     },
     "execution_count": 24,
     "metadata": {},
     "output_type": "execute_result"
    },
    {
     "data": {
      "text/plain": [
       "<Figure size 1000x600 with 0 Axes>"
      ]
     },
     "metadata": {},
     "output_type": "display_data"
    },
    {
     "data": {
      "text/plain": [
       "<Figure size 640x480 with 1 Axes>"
      ],
      "image/png": "[encoded data removed]"
     },
     "metadata": {},
     "output_type": "display_data"
    }
   ],
   "execution_count": 24
  },
  {
   "metadata": {},
   "cell_type": "markdown",
   "source": "**Bigdata** has seen a drop in listings, but **Data visualisation** and **ML/AI** has seen a strong increase",
   "id": "5b6eeade649e92f4"
  },
  {
   "metadata": {},
   "cell_type": "markdown",
   "source": "### Check the evolution of Business-related positions (QA, BA, PMO...)",
   "id": "99e9740fb4d7a669"
  },
  {
   "metadata": {},
   "cell_type": "markdown",
   "source": "Create a bar plot of BA, QA, management and technical support positions",
   "id": "2cf86669e62e394b"
  },
  {
   "metadata": {
    "ExecuteTime": {
     "end_time": "2025-07-04T20:16:33.537557Z",
     "start_time": "2025-07-04T20:16:33.450222Z"
    }
   },
   "cell_type": "code",
   "source": [
    "plt.figure(figsize=(10,6))\n",
    "ax = (df_grouped_by_month[['itmanagment', 'qa', 'pmandba', 'technical_support']]\n",
    " .loc[[ '2023-10-31', '2025-06-30']]\n",
    " .plot(kind='bar', rot=0))\n",
    "plt.title('Evolution of Business positions and technical support between 2023 and 2025')\n",
    "ax.set_xticklabels(['2023-10', '2025-06'])\n",
    "plt.ylabel('Number of listings')\n",
    "plt.legend(['IT management', 'QA', 'PM and BA', 'Technical support'])\n"
   ],
   "id": "8d9b034bbb9f527e",
   "outputs": [
    {
     "data": {
      "text/plain": [
       "<matplotlib.legend.Legend at 0x10cb0fe90>"
      ]
     },
     "execution_count": 25,
     "metadata": {},
     "output_type": "execute_result"
    },
    {
     "data": {
      "text/plain": [
       "<Figure size 1000x600 with 0 Axes>"
      ]
     },
     "metadata": {},
     "output_type": "display_data"
    },
    {
     "data": {
      "text/plain": [
       "<Figure size 640x480 with 1 Axes>"
      ],
      "image/png": "[encoded data removed]"
     },
     "metadata": {},
     "output_type": "display_data"
    }
   ],
   "execution_count": 25
  },
  {
   "metadata": {},
   "cell_type": "markdown",
   "source": "**Technical support** hasn't moved much in two years, but there has been a drop in demand for all the other positions",
   "id": "87a08925d521b048"
  }
 ],
 "metadata": {
  "kernelspec": {
   "display_name": "Python 3 (ipykernel)",
   "language": "python",
   "name": "python3"
  },
  "language_info": {
   "codemirror_mode": {
    "name": "ipython",
    "version": 3
   },
   "file_extension": ".py",
   "mimetype": "text/x-python",
   "name": "python",
   "nbconvert_exporter": "python",
   "pygments_lexer": "ipython3",
   "version": "3.12.3"
  }
 },
 "nbformat": 4,
 "nbformat_minor": 5
}
